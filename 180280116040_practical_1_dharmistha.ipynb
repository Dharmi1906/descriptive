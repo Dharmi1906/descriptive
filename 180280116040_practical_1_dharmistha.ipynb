#!/usr/bin/env python
# coding: utf-8

# Practical:-1

# Perform  Descriptive analysis and identify the data type. 1) Count Total no. of students in data set 2) Calculate mean of the marks for each subject 3) Find the highest and lowest marks in each subject in given data set 4) Count total no of male and female in dataset.
# 

# In[5]:


import pandas as pd
import numpy as np


# In[6]:


#getting data-frame from csv file
df= pd.read_csv(r'C:\Users\HP\Downloads\dataset\Student.csv')
df.head(n=10)


# In[7]:


#getting summary about every columns
df.info()


# Descriptive states describing observations
# 1. Mean
# 2. Median
# 3. Sum
# 4. Max, Min

# In[8]:


#counting students
s_count = df.count().Name
print(f'Total Students:{s_count}')


# In[29]:


subjects = ["PEM", "OS", "COA", "DM", "OOPJ"]
#getting subject data-frame
subject_df = df.loc[:, subjects]
print(subject_df)

#finding mean, median, max and min using agg()
subject_df.agg([np.mean,np.median,np.min,np.max])


# Descriptive states describing variable spread
# 
# 1. Variance
# 2. Standard deviation
# 3. Counts
# 4. Quartiles

# In[10]:


#counting number of male and female students
gender_counts = df.Gender.value_counts()
gender_counts.index = ["Total Females","Total Males"]
print(gender_counts)


# In[3]:


#getting gender by proportion
norm_gender_count = df.Gender.value_counts(normalize = True)
norm_gender_count.index=["Females(%)", "Males(%)"]
print(norm_Gender_count*100)


# In[4]:


#variance in marks of subject
df.var()["PEM":]


# In[31]:


#standard deviation in marks of subject
    df.std()["PEM":]


# In[33]:


def iqr(column):
       """
      This function finds the inter quartile range.
            75th percentile - 25th percentile
    
     Parameters
       -----------
            column: column whose iqr is to be known
            
        Returns
        ------------
        the inter quartile range of specified column
        """
        return column.quantile(.75) - column.quantile(.25)


# In[34]:


#finding iqr of every subject marks
    subject_df.agg(iqr)


# In[ ]:





