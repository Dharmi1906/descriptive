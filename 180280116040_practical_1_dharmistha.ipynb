{
 "cells": [
  {
   "cell_type": "markdown",
   "metadata": {},
   "source": [
    "## Practical 1\n",
    "\n",
    "<blockquote>\n",
    "Perform descriptive analysis and identify the data type.\n",
    "\n",
    "1) Count total no. of students in data set \n",
    "\n",
    "2) Calualte mean of the marks for each subject\n",
    "\n",
    "3) Find the highest and lowest  marks in each subject in given data set\n",
    "\n",
    "4) Count total no of male and female in dataset.\n",
    "</blockquote>\n"
   ]
  },
  {
   "cell_type": "code",
   "execution_count": 69,
   "metadata": {},
   "outputs": [],
   "source": [
    "import pandas as pd\n",
    "import numpy as np"
   ]
  },
  {
   "cell_type": "code",
   "execution_count": 70,
   "metadata": {},
   "outputs": [
    {
     "data": {
      "text/html": [
       "<div>\n",
       "<style scoped>\n",
       "    .dataframe tbody tr th:only-of-type {\n",
       "        vertical-align: middle;\n",
       "    }\n",
       "\n",
       "    .dataframe tbody tr th {\n",
       "        vertical-align: top;\n",
       "    }\n",
       "\n",
       "    .dataframe thead th {\n",
       "        text-align: right;\n",
       "    }\n",
       "</style>\n",
       "<table border=\"1\" class=\"dataframe\">\n",
       "  <thead>\n",
       "    <tr style=\"text-align: right;\">\n",
       "      <th></th>\n",
       "      <th>Name</th>\n",
       "      <th>Enrollment No.</th>\n",
       "      <th>Gender</th>\n",
       "      <th>Contact</th>\n",
       "      <th>City</th>\n",
       "      <th>PEM</th>\n",
       "      <th>DM</th>\n",
       "      <th>OS</th>\n",
       "      <th>COA</th>\n",
       "      <th>OOPJ</th>\n",
       "    </tr>\n",
       "  </thead>\n",
       "  <tbody>\n",
       "    <tr>\n",
       "      <th>0</th>\n",
       "      <td>nidh</td>\n",
       "      <td>180280116110</td>\n",
       "      <td>f</td>\n",
       "      <td>747-094-9614</td>\n",
       "      <td>Gandhinagar</td>\n",
       "      <td>80</td>\n",
       "      <td>92</td>\n",
       "      <td>84</td>\n",
       "      <td>78</td>\n",
       "      <td>90</td>\n",
       "    </tr>\n",
       "    <tr>\n",
       "      <th>1</th>\n",
       "      <td>manish</td>\n",
       "      <td>180280116101</td>\n",
       "      <td>m</td>\n",
       "      <td>174-612-4067</td>\n",
       "      <td>Vadodara</td>\n",
       "      <td>57</td>\n",
       "      <td>22</td>\n",
       "      <td>35</td>\n",
       "      <td>42</td>\n",
       "      <td>49</td>\n",
       "    </tr>\n",
       "    <tr>\n",
       "      <th>2</th>\n",
       "      <td>pramila</td>\n",
       "      <td>180280116102</td>\n",
       "      <td>f</td>\n",
       "      <td>161-786-0160</td>\n",
       "      <td>Ahmedabad</td>\n",
       "      <td>38</td>\n",
       "      <td>54</td>\n",
       "      <td>55</td>\n",
       "      <td>30</td>\n",
       "      <td>20</td>\n",
       "    </tr>\n",
       "    <tr>\n",
       "      <th>3</th>\n",
       "      <td>rekha</td>\n",
       "      <td>180280116103</td>\n",
       "      <td>f</td>\n",
       "      <td>767-737-0527</td>\n",
       "      <td>Ahmedabad</td>\n",
       "      <td>54</td>\n",
       "      <td>53</td>\n",
       "      <td>25</td>\n",
       "      <td>23</td>\n",
       "      <td>68</td>\n",
       "    </tr>\n",
       "    <tr>\n",
       "      <th>4</th>\n",
       "      <td>muskan</td>\n",
       "      <td>180280116104</td>\n",
       "      <td>f</td>\n",
       "      <td>390-149-7969</td>\n",
       "      <td>Amreli</td>\n",
       "      <td>61</td>\n",
       "      <td>63</td>\n",
       "      <td>61</td>\n",
       "      <td>67</td>\n",
       "      <td>65</td>\n",
       "    </tr>\n",
       "    <tr>\n",
       "      <th>5</th>\n",
       "      <td>shri  aladeen</td>\n",
       "      <td>180280116105</td>\n",
       "      <td>m</td>\n",
       "      <td>652-337-9095</td>\n",
       "      <td>Vadodara</td>\n",
       "      <td>47</td>\n",
       "      <td>35</td>\n",
       "      <td>53</td>\n",
       "      <td>37</td>\n",
       "      <td>37</td>\n",
       "    </tr>\n",
       "    <tr>\n",
       "      <th>6</th>\n",
       "      <td>mohini</td>\n",
       "      <td>180280116106</td>\n",
       "      <td>f</td>\n",
       "      <td>986-358-2979</td>\n",
       "      <td>Vadodara</td>\n",
       "      <td>50</td>\n",
       "      <td>28</td>\n",
       "      <td>55</td>\n",
       "      <td>34</td>\n",
       "      <td>45</td>\n",
       "    </tr>\n",
       "    <tr>\n",
       "      <th>7</th>\n",
       "      <td>manju</td>\n",
       "      <td>180280116107</td>\n",
       "      <td>f</td>\n",
       "      <td>287-063-0964</td>\n",
       "      <td>Vadodara</td>\n",
       "      <td>25</td>\n",
       "      <td>57</td>\n",
       "      <td>64</td>\n",
       "      <td>49</td>\n",
       "      <td>34</td>\n",
       "    </tr>\n",
       "    <tr>\n",
       "      <th>8</th>\n",
       "      <td>wasim</td>\n",
       "      <td>180280116108</td>\n",
       "      <td>m</td>\n",
       "      <td>437-037-0103</td>\n",
       "      <td>Rajkot</td>\n",
       "      <td>52</td>\n",
       "      <td>68</td>\n",
       "      <td>66</td>\n",
       "      <td>67</td>\n",
       "      <td>30</td>\n",
       "    </tr>\n",
       "    <tr>\n",
       "      <th>9</th>\n",
       "      <td>ramvir</td>\n",
       "      <td>180280116109</td>\n",
       "      <td>m</td>\n",
       "      <td>708-658-2304</td>\n",
       "      <td>Amreli</td>\n",
       "      <td>46</td>\n",
       "      <td>66</td>\n",
       "      <td>66</td>\n",
       "      <td>31</td>\n",
       "      <td>39</td>\n",
       "    </tr>\n",
       "  </tbody>\n",
       "</table>\n",
       "</div>"
      ],
      "text/plain": [
       "            Name  Enrollment No. Gender       Contact         City  PEM  DM  \\\n",
       "0          nisha    180280116100      f  747-094-9614  Gandhinagar   68  62   \n",
       "1         manish    180280116101      m  174-612-4067     Vadodara   57  22   \n",
       "2        pramila    180280116102      f  161-786-0160    Ahmedabad   38  54   \n",
       "3          rekha    180280116103      f  767-737-0527    Ahmedabad   54  53   \n",
       "4         muskan    180280116104      f  390-149-7969       Amreli   61  63   \n",
       "5  shri  aladeen    180280116105      m  652-337-9095     Vadodara   47  35   \n",
       "6         mohini    180280116106      f  986-358-2979     Vadodara   50  28   \n",
       "7          manju    180280116107      f  287-063-0964     Vadodara   25  57   \n",
       "8          wasim    180280116108      m  437-037-0103       Rajkot   52  68   \n",
       "9         ramvir    180280116109      m  708-658-2304       Amreli   46  66   \n",
       "\n",
       "   OS  COA  OOPJ  \n",
       "0  67   67    67  \n",
       "1  35   42    49  \n",
       "2  55   30    20  \n",
       "3  25   23    68  \n",
       "4  61   67    65  \n",
       "5  53   37    37  \n",
       "6  55   34    45  \n",
       "7  64   49    34  \n",
       "8  66   67    30  \n",
       "9  66   31    39  "
      ]
     },
     "execution_count": 70,
     "metadata": {},
     "output_type": "execute_result"
    }
   ],
   "source": [
    "#getting data-frame from csv file\n",
    "student_data = pd.read_csv('student.csv')\n",
    "student_data.head(n=10)"
   ]
  },
  {
   "cell_type": "code",
   "execution_count": 71,
   "metadata": {},
   "outputs": [
    {
     "data": {
      "text/html": [
       "<div>\n",
       "<style scoped>\n",
       "    .dataframe tbody tr th:only-of-type {\n",
       "        vertical-align: middle;\n",
       "    }\n",
       "\n",
       "    .dataframe tbody tr th {\n",
       "        vertical-align: top;\n",
       "    }\n",
       "\n",
       "    .dataframe thead th {\n",
       "        text-align: right;\n",
       "    }\n",
       "</style>\n",
       "<table border=\"1\" class=\"dataframe\">\n",
       "  <thead>\n",
       "    <tr style=\"text-align: right;\">\n",
       "      <th></th>\n",
       "      <th>Enrollment No.</th>\n",
       "      <th>PEM</th>\n",
       "      <th>DM</th>\n",
       "      <th>OS</th>\n",
       "      <th>COA</th>\n",
       "      <th>OOPJ</th>\n",
       "    </tr>\n",
       "  </thead>\n",
       "  <tbody>\n",
       "    <tr>\n",
       "      <th>count</th>\n",
       "      <td>5.040000e+02</td>\n",
       "      <td>504.000000</td>\n",
       "      <td>504.000000</td>\n",
       "      <td>504.000000</td>\n",
       "      <td>504.000000</td>\n",
       "      <td>504.000000</td>\n",
       "    </tr>\n",
       "    <tr>\n",
       "      <th>mean</th>\n",
       "      <td>1.802801e+11</td>\n",
       "      <td>46.117063</td>\n",
       "      <td>48.422619</td>\n",
       "      <td>47.875000</td>\n",
       "      <td>46.678571</td>\n",
       "      <td>47.238095</td>\n",
       "    </tr>\n",
       "    <tr>\n",
       "      <th>std</th>\n",
       "      <td>1.456365e+02</td>\n",
       "      <td>17.827988</td>\n",
       "      <td>16.473907</td>\n",
       "      <td>17.015554</td>\n",
       "      <td>17.401237</td>\n",
       "      <td>17.280370</td>\n",
       "    </tr>\n",
       "    <tr>\n",
       "      <th>min</th>\n",
       "      <td>1.802801e+11</td>\n",
       "      <td>15.000000</td>\n",
       "      <td>15.000000</td>\n",
       "      <td>15.000000</td>\n",
       "      <td>15.000000</td>\n",
       "      <td>15.000000</td>\n",
       "    </tr>\n",
       "    <tr>\n",
       "      <th>25%</th>\n",
       "      <td>1.802801e+11</td>\n",
       "      <td>29.000000</td>\n",
       "      <td>35.000000</td>\n",
       "      <td>33.000000</td>\n",
       "      <td>31.000000</td>\n",
       "      <td>32.000000</td>\n",
       "    </tr>\n",
       "    <tr>\n",
       "      <th>50%</th>\n",
       "      <td>1.802801e+11</td>\n",
       "      <td>47.500000</td>\n",
       "      <td>51.000000</td>\n",
       "      <td>53.000000</td>\n",
       "      <td>49.000000</td>\n",
       "      <td>49.500000</td>\n",
       "    </tr>\n",
       "    <tr>\n",
       "      <th>75%</th>\n",
       "      <td>1.802801e+11</td>\n",
       "      <td>63.000000</td>\n",
       "      <td>64.000000</td>\n",
       "      <td>63.000000</td>\n",
       "      <td>63.000000</td>\n",
       "      <td>64.000000</td>\n",
       "    </tr>\n",
       "    <tr>\n",
       "      <th>max</th>\n",
       "      <td>1.802801e+11</td>\n",
       "      <td>70.000000</td>\n",
       "      <td>70.000000</td>\n",
       "      <td>70.000000</td>\n",
       "      <td>70.000000</td>\n",
       "      <td>70.000000</td>\n",
       "    </tr>\n",
       "  </tbody>\n",
       "</table>\n",
       "</div>"
      ],
      "text/plain": [
       "       Enrollment No.         PEM          DM          OS         COA  \\\n",
       "count    5.040000e+02  504.000000  504.000000  504.000000  504.000000   \n",
       "mean     1.802801e+11   46.117063   48.422619   47.875000   46.678571   \n",
       "std      1.456365e+02   17.827988   16.473907   17.015554   17.401237   \n",
       "min      1.802801e+11   15.000000   15.000000   15.000000   15.000000   \n",
       "25%      1.802801e+11   29.000000   35.000000   33.000000   31.000000   \n",
       "50%      1.802801e+11   47.500000   51.000000   53.000000   49.000000   \n",
       "75%      1.802801e+11   63.000000   64.000000   63.000000   63.000000   \n",
       "max      1.802801e+11   70.000000   70.000000   70.000000   70.000000   \n",
       "\n",
       "             OOPJ  \n",
       "count  504.000000  \n",
       "mean    47.238095  \n",
       "std     17.280370  \n",
       "min     15.000000  \n",
       "25%     32.000000  \n",
       "50%     49.500000  \n",
       "75%     64.000000  \n",
       "max     70.000000  "
      ]
     },
     "execution_count": 71,
     "metadata": {},
     "output_type": "execute_result"
    }
   ],
   "source": [
    "#getting summary statistics of student data\n",
    "student_data.describe()"
   ]
  },
  {
   "cell_type": "code",
   "execution_count": 72,
   "metadata": {},
   "outputs": [
    {
     "name": "stdout",
     "output_type": "stream",
     "text": [
      "<class 'pandas.core.frame.DataFrame'>\n",
      "RangeIndex: 504 entries, 0 to 503\n",
      "Data columns (total 10 columns):\n",
      " #   Column          Non-Null Count  Dtype \n",
      "---  ------          --------------  ----- \n",
      " 0   Name            504 non-null    object\n",
      " 1   Enrollment No.  504 non-null    int64 \n",
      " 2   Gender          504 non-null    object\n",
      " 3   Contact         504 non-null    object\n",
      " 4   City            504 non-null    object\n",
      " 5   PEM             504 non-null    int64 \n",
      " 6   DM              504 non-null    int64 \n",
      " 7   OS              504 non-null    int64 \n",
      " 8   COA             504 non-null    int64 \n",
      " 9   OOPJ            504 non-null    int64 \n",
      "dtypes: int64(6), object(4)\n",
      "memory usage: 39.5+ KB\n"
     ]
    }
   ],
   "source": [
    "#getting summary about every columns\n",
    "student_data.info()"
   ]
  },
  {
   "cell_type": "markdown",
   "metadata": {},
   "source": [
    "### Descriptive stats describing observations\n",
    "<ol>\n",
    "    <li>Mean</li>\n",
    "    <li>Median</li>\n",
    "    <li>Sum</li>\n",
    "    <li>Max, Min </li>\n",
    "</ol>"
   ]
  },
  {
   "cell_type": "code",
   "execution_count": 73,
   "metadata": {},
   "outputs": [
    {
     "name": "stdout",
     "output_type": "stream",
     "text": [
      "Total Students: 504\n"
     ]
    }
   ],
   "source": [
    "#counting students\n",
    "s_count = student_data.count().Name\n",
    "print(f'Total Students: {s_count}')"
   ]
  },
  {
   "cell_type": "code",
   "execution_count": 74,
   "metadata": {},
   "outputs": [
    {
     "name": "stdout",
     "output_type": "stream",
     "text": [
      "     PEM  OS  COA  DM  OOPJ\n",
      "0     68  67   67  62    67\n",
      "1     57  35   42  22    49\n",
      "2     38  55   30  54    20\n",
      "3     54  25   23  53    68\n",
      "4     61  61   67  63    65\n",
      "..   ...  ..  ...  ..   ...\n",
      "499   18  29   48  31    17\n",
      "500   56  39   54  19    59\n",
      "501   47  44   49  39    65\n",
      "502   70  68   61  60    63\n",
      "503   44  39   64  70    25\n",
      "\n",
      "[504 rows x 5 columns]\n"
     ]
    },
    {
     "data": {
      "text/html": [
       "<div>\n",
       "<style scoped>\n",
       "    .dataframe tbody tr th:only-of-type {\n",
       "        vertical-align: middle;\n",
       "    }\n",
       "\n",
       "    .dataframe tbody tr th {\n",
       "        vertical-align: top;\n",
       "    }\n",
       "\n",
       "    .dataframe thead th {\n",
       "        text-align: right;\n",
       "    }\n",
       "</style>\n",
       "<table border=\"1\" class=\"dataframe\">\n",
       "  <thead>\n",
       "    <tr style=\"text-align: right;\">\n",
       "      <th></th>\n",
       "      <th>PEM</th>\n",
       "      <th>OS</th>\n",
       "      <th>COA</th>\n",
       "      <th>DM</th>\n",
       "      <th>OOPJ</th>\n",
       "    </tr>\n",
       "  </thead>\n",
       "  <tbody>\n",
       "    <tr>\n",
       "      <th>mean</th>\n",
       "      <td>46.117063</td>\n",
       "      <td>47.875</td>\n",
       "      <td>46.678571</td>\n",
       "      <td>48.422619</td>\n",
       "      <td>47.238095</td>\n",
       "    </tr>\n",
       "    <tr>\n",
       "      <th>median</th>\n",
       "      <td>47.500000</td>\n",
       "      <td>53.000</td>\n",
       "      <td>49.000000</td>\n",
       "      <td>51.000000</td>\n",
       "      <td>49.500000</td>\n",
       "    </tr>\n",
       "    <tr>\n",
       "      <th>amin</th>\n",
       "      <td>15.000000</td>\n",
       "      <td>15.000</td>\n",
       "      <td>15.000000</td>\n",
       "      <td>15.000000</td>\n",
       "      <td>15.000000</td>\n",
       "    </tr>\n",
       "    <tr>\n",
       "      <th>amax</th>\n",
       "      <td>70.000000</td>\n",
       "      <td>70.000</td>\n",
       "      <td>70.000000</td>\n",
       "      <td>70.000000</td>\n",
       "      <td>70.000000</td>\n",
       "    </tr>\n",
       "  </tbody>\n",
       "</table>\n",
       "</div>"
      ],
      "text/plain": [
       "              PEM      OS        COA         DM       OOPJ\n",
       "mean    46.117063  47.875  46.678571  48.422619  47.238095\n",
       "median  47.500000  53.000  49.000000  51.000000  49.500000\n",
       "amin    15.000000  15.000  15.000000  15.000000  15.000000\n",
       "amax    70.000000  70.000  70.000000  70.000000  70.000000"
      ]
     },
     "execution_count": 74,
     "metadata": {},
     "output_type": "execute_result"
    }
   ],
   "source": [
    "subjects = [\"PEM\", \"OS\", \"COA\", \"DM\", \"OOPJ\"]\n",
    "#getting subjects data-frame\n",
    "subject_df = student_data.loc[:, subjects]\n",
    "print(subject_df)\n",
    "\n",
    "#finding mean,median,max and min using agg()\n",
    "subject_df.agg([np.mean, np.median, np.min, np.max])\n"
   ]
  },
  {
   "cell_type": "markdown",
   "metadata": {},
   "source": [
    "### Descriptive stats describing variable spread\n",
    "<ol>\n",
    "    <li>Variance</li>\n",
    "    <li>Standard deviation</li>\n",
    "    <li>Counts</li>\n",
    "    <li>Quartiles</li>\n",
    "</ol>"
   ]
  },
  {
   "cell_type": "code",
   "execution_count": 75,
   "metadata": {},
   "outputs": [
    {
     "name": "stdout",
     "output_type": "stream",
     "text": [
      "Total Females    256\n",
      "Total Males      248\n",
      "Name: Gender, dtype: int64\n"
     ]
    }
   ],
   "source": [
    "#counting number of male and female students\n",
    "gender_counts = student_data.Gender.value_counts()\n",
    "gender_counts.index=[\"Total Females\", \"Total Males\"]\n",
    "print(gender_counts)"
   ]
  },
  {
   "cell_type": "code",
   "execution_count": 76,
   "metadata": {},
   "outputs": [
    {
     "name": "stdout",
     "output_type": "stream",
     "text": [
      "Females(%)    50.793651\n",
      "Males(%)      49.206349\n",
      "Name: Gender, dtype: float64\n"
     ]
    }
   ],
   "source": [
    "#getting gender by proportion\n",
    "norm_gender_count = student_data.Gender.value_counts(normalize=True)\n",
    "norm_gender_count.index=[\"Females(%)\", \"Males(%)\"]\n",
    "print(norm_gender_count*100)"
   ]
  },
  {
   "cell_type": "code",
   "execution_count": 77,
   "metadata": {},
   "outputs": [
    {
     "data": {
      "text/plain": [
       "PEM     317.837164\n",
       "DM      271.389627\n",
       "OS      289.529076\n",
       "COA     302.803039\n",
       "OOPJ    298.611190\n",
       "dtype: float64"
      ]
     },
     "execution_count": 77,
     "metadata": {},
     "output_type": "execute_result"
    }
   ],
   "source": [
    "#variance in marks of subject\n",
    "student_data.var()[\"PEM\":]"
   ]
  },
  {
   "cell_type": "code",
   "execution_count": 78,
   "metadata": {},
   "outputs": [
    {
     "data": {
      "text/plain": [
       "PEM     17.827988\n",
       "DM      16.473907\n",
       "OS      17.015554\n",
       "COA     17.401237\n",
       "OOPJ    17.280370\n",
       "dtype: float64"
      ]
     },
     "execution_count": 78,
     "metadata": {},
     "output_type": "execute_result"
    }
   ],
   "source": [
    "#standard deviation in marks of subject\n",
    "student_data.std()[\"PEM\":]"
   ]
  },
  {
   "cell_type": "code",
   "execution_count": 79,
   "metadata": {},
   "outputs": [],
   "source": [
    "def iqr(column):\n",
    "    \"\"\"\n",
    "    This function finds the inter quartile range.\n",
    "        75th percentile - 25th percentile\n",
    "    \n",
    "    Parameters\n",
    "    -----------\n",
    "        column: column whose iqr is to be known\n",
    "        \n",
    "    Returns\n",
    "    ------------\n",
    "    the inter quartile range of specified column\n",
    "    \"\"\"\n",
    "    return column.quantile(.75) - column.quantile(.25)"
   ]
  },
  {
   "cell_type": "code",
   "execution_count": 82,
   "metadata": {},
   "outputs": [
    {
     "data": {
      "text/plain": [
       "PEM     34.0\n",
       "OS      30.0\n",
       "COA     32.0\n",
       "DM      29.0\n",
       "OOPJ    32.0\n",
       "dtype: float64"
      ]
     },
     "execution_count": 82,
     "metadata": {},
     "output_type": "execute_result"
    }
   ],
   "source": [
    "#finding iqr of every subject marks\n",
    "subject_df.agg(iqr)"
   ]
  },
  {
   "cell_type": "code",
   "execution_count": null,
   "metadata": {},
   "outputs": [],
   "source": []
  }
 ],
 "metadata": {
  "kernelspec": {
   "display_name": "Python 3",
   "language": "python",
   "name": "python3"
  },
  "language_info": {
   "codemirror_mode": {
    "name": "ipython",
    "version": 3
   },
   "file_extension": ".py",
   "mimetype": "text/x-python",
   "name": "python",
   "nbconvert_exporter": "python",
   "pygments_lexer": "ipython3",
   "version": "3.7.7"
  }
 },
 "nbformat": 4,
 "nbformat_minor": 4
}

